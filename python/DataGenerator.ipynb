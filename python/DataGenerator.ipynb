{
 "cells": [
  {
   "cell_type": "code",
   "execution_count": null,
   "metadata": {},
   "outputs": [],
   "source": [
    "import requests\n",
    "import json"
   ]
  },
  {
   "cell_type": "code",
   "execution_count": null,
   "metadata": {},
   "outputs": [],
   "source": [
    "a = requests.get('https://pokeapi.co/api/v2/version-group/?limit=9999').json()\n",
    "version_groups = []\n",
    "for x in a['results']:\n",
    "    version_groups.append(x['name'])\n",
    "\n",
    "species_url_list = requests.get('https://pokeapi.co/api/v2/pokemon-species/?limit=9999').json()\n",
    "pokemon_url_list = requests.get('https://pokeapi.co/api/v2/pokemon/?limit=9999').json()\n",
    "growth_rate_url_list = requests.get('https://pokeapi.co/api/v2/growth-rate/').json()\n",
    "ability_url_list = requests.get('https://pokeapi.co/api/v2/ability/?limit=9999').json()\n",
    "move_url_list = requests.get('https://pokeapi.co/api/v2/move/?limit=9999').json()\n",
    "item_url_list = requests.get('https://pokeapi.co/api/v2/item/?limit=9999').json()\n",
    "evolution_url_list = requests.get('https://pokeapi.co/api/v2/evolution-chain/?limit=9999').json()"
   ]
  },
  {
   "cell_type": "code",
   "execution_count": null,
   "metadata": {},
   "outputs": [],
   "source": [
    "for x in species_url_list['results']:\n",
    "    a = x['url'].split('/')[-2]\n",
    "    print(a)\n",
    "    with open('species/' + a + '.json', 'w') as f:\n",
    "        json.dump(requests.get('https://pokeapi.co/api/v2/pokemon-species/' + a).json(), f)"
   ]
  },
  {
   "cell_type": "code",
   "execution_count": null,
   "metadata": {},
   "outputs": [],
   "source": [
    "for x in pokemon_url_list['results']:\n",
    "    a = x['url'].split('/')[-2]\n",
    "    print(a)\n",
    "    with open('pokemon/' + a + '.json', 'w') as f:\n",
    "        json.dump(requests.get('https://pokeapi.co/api/v2/pokemon/' + a).json(), f)"
   ]
  },
  {
   "cell_type": "code",
   "execution_count": null,
   "metadata": {},
   "outputs": [],
   "source": [
    "for x in ability_url_list['results']:\n",
    "    a = x['url'].split('/')[-2]\n",
    "    print(a)\n",
    "    with open('ability/' + a + '.json', 'w') as f:\n",
    "        json.dump(requests.get('https://pokeapi.co/api/v2/ability/' + a).json(), f)"
   ]
  },
  {
   "cell_type": "code",
   "execution_count": null,
   "metadata": {},
   "outputs": [],
   "source": [
    "for x in move_url_list['results']:\n",
    "    a = x['url'].split('/')[-2]\n",
    "    print(a)\n",
    "    with open('move/' + a + '.json', 'w') as f:\n",
    "        json.dump(requests.get('https://pokeapi.co/api/v2/move/' + a).json(), f)"
   ]
  },
  {
   "cell_type": "code",
   "execution_count": null,
   "metadata": {},
   "outputs": [],
   "source": [
    "for x in item_url_list['results']:\n",
    "    a = x['url'].split('/')[-2]\n",
    "    print(a)\n",
    "    with open('item/' + a + '.json', 'w') as f:\n",
    "        json.dump(requests.get('https://pokeapi.co/api/v2/item/' + a).json(), f)"
   ]
  },
  {
   "cell_type": "code",
   "execution_count": null,
   "metadata": {
    "scrolled": true
   },
   "outputs": [],
   "source": [
    "for x in evolution_url_list['results']:\n",
    "    a = x['url'].split('/')[-2]\n",
    "    print(a)\n",
    "    with open('evolution/' + a + '.json', 'w') as f:\n",
    "        json.dump(requests.get('https://pokeapi.co/api/v2/evolution-chain/' + a).json(), f)"
   ]
  },
  {
   "cell_type": "code",
   "execution_count": null,
   "metadata": {},
   "outputs": [],
   "source": []
  }
 ],
 "metadata": {
  "kernelspec": {
   "display_name": "Python 3",
   "language": "python",
   "name": "python3"
  },
  "language_info": {
   "codemirror_mode": {
    "name": "ipython",
    "version": 3
   },
   "file_extension": ".py",
   "mimetype": "text/x-python",
   "name": "python",
   "nbconvert_exporter": "python",
   "pygments_lexer": "ipython3",
   "version": "3.8.5"
  }
 },
 "nbformat": 4,
 "nbformat_minor": 5
}
